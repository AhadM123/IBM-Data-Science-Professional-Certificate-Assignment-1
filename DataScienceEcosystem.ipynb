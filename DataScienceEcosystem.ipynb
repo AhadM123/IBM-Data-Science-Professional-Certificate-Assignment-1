{
 "cells": [
  {
   "cell_type": "markdown",
   "id": "a25a196c-ee73-4fd2-b1c7-4d7167e1e4ab",
   "metadata": {},
   "source": [
    "# Data Science Tools and Ecosystem"
   ]
  },
  {
   "cell_type": "markdown",
   "id": "5b31f577-6583-405c-a285-00abbbf5a35c",
   "metadata": {},
   "source": [
    "In this notebook, Data Science Tools and Ecosystem are summarized."
   ]
  },
  {
   "cell_type": "markdown",
   "id": "8f8ac463-fc8d-4a3d-8998-435e5be30598",
   "metadata": {},
   "source": [
    "**Objectives:**\n",
    "* List popular languages for Data Science\n",
    "* List popular libraries for Data Science\n",
    "* Table with popular Tools for Data Science"
   ]
  },
  {
   "cell_type": "markdown",
   "id": "93fcb813-95a9-4908-b84f-719e22ccec00",
   "metadata": {},
   "source": [
    "Some of the popular languages that Data Scientists use are:\n",
    "1. Python\n",
    "2. Scala\n",
    "3. Julia"
   ]
  },
  {
   "cell_type": "markdown",
   "id": "a686ed5a-f613-41a0-bc90-8a97333ebb7c",
   "metadata": {},
   "source": [
    "Some of the commonly used libraries used by Data Scientists include:\n",
    "1. NumPy\n",
    "2. Pandas\n",
    "3. Matplotlib"
   ]
  },
  {
   "cell_type": "markdown",
   "id": "a02c9335-214f-45b7-b225-d6a496e33a2f",
   "metadata": {},
   "source": [
    "| Data Science Tools |\n",
    "| ------------------ |\n",
    "| Apache Spark |\n",
    "| R |\n",
    "| Jupyter Notebooks|"
   ]
  },
  {
   "cell_type": "markdown",
   "id": "41856d84-5ebb-44b8-8245-fe3575fe9e2f",
   "metadata": {},
   "source": [
    "### Below are a few examples of evaluating arithmetic expressions in Python"
   ]
  },
  {
   "cell_type": "code",
   "execution_count": 5,
   "id": "8f7e9d63-a0a6-40b9-b7b3-457ceb649119",
   "metadata": {
    "tags": []
   },
   "outputs": [
    {
     "data": {
      "text/plain": [
       "17"
      ]
     },
     "execution_count": 5,
     "metadata": {},
     "output_type": "execute_result"
    }
   ],
   "source": [
    "#This a simple arithmetic expression to mutiply then add integers\n",
    "(3*4)+5"
   ]
  },
  {
   "cell_type": "code",
   "execution_count": 7,
   "id": "6fb4042c-2152-4774-ad9f-835ffe3ab193",
   "metadata": {
    "tags": []
   },
   "outputs": [
    {
     "data": {
      "text/plain": [
       "3.3333333333333335"
      ]
     },
     "execution_count": 7,
     "metadata": {},
     "output_type": "execute_result"
    }
   ],
   "source": [
    "#This will convert 200 minutes to hours by diving by 60\n",
    "200/60"
   ]
  },
  {
   "cell_type": "markdown",
   "id": "1247adb6-1251-4a2b-af6b-635d2716354a",
   "metadata": {},
   "source": [
    "## Author\n",
    "Ahad"
   ]
  }
 ],
 "metadata": {
  "kernelspec": {
   "display_name": "Python",
   "language": "python",
   "name": "conda-env-python-py"
  },
  "language_info": {
   "codemirror_mode": {
    "name": "ipython",
    "version": 3
   },
   "file_extension": ".py",
   "mimetype": "text/x-python",
   "name": "python",
   "nbconvert_exporter": "python",
   "pygments_lexer": "ipython3",
   "version": "3.7.12"
  }
 },
 "nbformat": 4,
 "nbformat_minor": 5
}
